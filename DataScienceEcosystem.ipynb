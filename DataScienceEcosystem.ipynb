{
 "cells": [
  {
   "cell_type": "markdown",
   "id": "4cb4f8a8-0e8c-4f49-8181-f4e5011f66c1",
   "metadata": {
    "tags": []
   },
   "source": [
    "# Exercise 1: Create a Jupyter Notebook\n",
    "\n",
    "## Create a new Jupyter notebook called DataScienceEcosystem.ipynb\n",
    "\n",
    "### Note: The next item in the course will launch JupyterLite with an empty notebook with this name that you can use to complete rest of the Exercises. \n",
    "### You can also use any other Jupyter notebook environment (e.g. Anaconda) that you prefer to complete the assignment."
   ]
  },
  {
   "cell_type": "markdown",
   "id": "a7d14850-3ad6-468d-9405-f155e34f7b50",
   "metadata": {},
   "source": [
    "# Exercise 2: Create markdown cell with title of the notebook"
   ]
  },
  {
   "cell_type": "markdown",
   "id": "8d5176c1-26e4-46d9-8d6c-9f71c697c3e5",
   "metadata": {},
   "source": [
    "# Data Science Tools and Ecosystem"
   ]
  },
  {
   "cell_type": "markdown",
   "id": "98aa026a-2cab-4192-9f93-a6f3844fe436",
   "metadata": {},
   "source": [
    "# Exercise 3 - Create a markdown cell for an introduction"
   ]
  },
  {
   "cell_type": "markdown",
   "id": "02d9a90f-8234-44a8-85cc-1a351e2ff210",
   "metadata": {},
   "source": [
    "## In this notebook, Data Science Tools and Ecosystem are summarized."
   ]
  },
  {
   "cell_type": "markdown",
   "id": "0d0430ba-fabb-497a-98cc-4701d34d08cb",
   "metadata": {},
   "source": [
    "# Exercise 4 - Create a markdown cell to list data science languages"
   ]
  },
  {
   "cell_type": "markdown",
   "id": "d539dddc-4a0b-4b9e-86a8-1b7e96bba59e",
   "metadata": {},
   "source": [
    "## Some of the popular languages that Data Scientists use are:\n",
    "1. Python\n",
    "2. R\n",
    "3. SQL\n",
    "4. Juila\n",
    "5. Scala\n",
    "6. JavaScript\n"
   ]
  },
  {
   "cell_type": "markdown",
   "id": "a9ec8da7-a6d3-4307-979d-c54832c7e3ca",
   "metadata": {},
   "source": [
    "# Exercise 5 - Create a markdown cell to list data science libraries"
   ]
  },
  {
   "cell_type": "markdown",
   "id": "dfcd9df8-307c-417e-ac26-ccc88c6c9bf5",
   "metadata": {},
   "source": [
    "## Some of the commonly used libraries used by Data Scientists include:\n",
    "1. NumPy\n",
    "2. SciPy\n",
    "3. Pandas\n",
    "4. Matplotlib\n",
    "5. SciKit-Learn\n",
    "6. TensorFlow\n",
    "7. ggplot2\n",
    "8. dplyr\n",
    "9. readr\n",
    "10. stringr"
   ]
  },
  {
   "cell_type": "markdown",
   "id": "5532f4c4-3e37-4f1b-9107-d9d0cf10645c",
   "metadata": {},
   "source": [
    "## Exercise 6 - Create a markdown cell with a table of Data Science tools\n",
    "### The subsequent three rows in the table should indicate three development environment open source tools used in data science.\n",
    "| Data Science Tools |\n",
    "----------------------\n",
    "| Jupyter Notebook |\n",
    "| RStudio |\n",
    "| Spyder |"
   ]
  },
  {
   "cell_type": "markdown",
   "id": "54a6e8da-4e07-427c-9286-1b9319d41192",
   "metadata": {},
   "source": [
    "# Exercise 7 - Create a markdown cell introducing arithmetic expression examples\n",
    "### Below are a few examples of evaluating arithmetic expressions in Python"
   ]
  },
  {
   "cell_type": "markdown",
   "id": "73ed6933-b326-49e2-a02d-4bb86df38d67",
   "metadata": {},
   "source": [
    "# Exercise 8 - Create a code cell to multiply and add numbers"
   ]
  },
  {
   "cell_type": "code",
   "execution_count": 1,
   "id": "ebe44989-4beb-43dd-83cb-9280e721c303",
   "metadata": {
    "tags": []
   },
   "outputs": [
    {
     "data": {
      "text/plain": [
       "17"
      ]
     },
     "execution_count": 1,
     "metadata": {},
     "output_type": "execute_result"
    }
   ],
   "source": [
    "# This a simple arithmetic expression to mutiply then add integers.\n",
    "(3*4)+5"
   ]
  },
  {
   "cell_type": "markdown",
   "id": "858b3478-80d3-4b88-b945-a2639a57f479",
   "metadata": {},
   "source": [
    "# Exercise 9 - Create a code cell to convert minutes to hours"
   ]
  },
  {
   "cell_type": "code",
   "execution_count": 2,
   "id": "14922273-94e9-40ef-83b9-28eca74612b5",
   "metadata": {
    "tags": []
   },
   "outputs": [
    {
     "data": {
      "text/plain": [
       "3.3333333333333335"
      ]
     },
     "execution_count": 2,
     "metadata": {},
     "output_type": "execute_result"
    }
   ],
   "source": [
    "# This will convert 200 minutes to hours by diving by 60.\n",
    "200/60"
   ]
  },
  {
   "cell_type": "markdown",
   "id": "5a5ddd8c-ae6b-47d7-8511-9ed051f8900f",
   "metadata": {},
   "source": [
    "# Exercise 10 - Insert a markdown cell to list Objectives\n",
    "### Below the introduction cell created in Exercise 3, insert a new markdown cell to list the objectives that this notebook covered (i.e. some of the key takeaways from the course)."
   ]
  },
  {
   "cell_type": "markdown",
   "id": "daf467e6-a7a1-42be-97f7-e5d4fe4fbc78",
   "metadata": {},
   "source": [
    "# Exercise 3 - Create a markdown cell for an introduction\n",
    "## In this notebook, Data Science Tools and Ecosystem are summarized."
   ]
  },
  {
   "cell_type": "markdown",
   "id": "987fe011-de81-4f4c-94c7-66f11419d91b",
   "metadata": {},
   "source": [
    "***Objectives***\n",
    "* Create a new Jupyter notebook called DataScienceEcosystem.ipynb\n",
    "* Create a markdown cell with Title, table, new line, with bold text and bullets\n",
    "* List popular data science languages & data science libraries\n",
    "* Code cell to multiply & add numbers and convert minutes to hours using division\n",
    "* Share notebook through ***GitHub***"
   ]
  },
  {
   "cell_type": "markdown",
   "id": "9360cd7f-a9c0-4ab4-90c4-c5fc67f229b6",
   "metadata": {},
   "source": [
    "# Exercise 11 - Create a markdown cell to indicate the Author's name"
   ]
  },
  {
   "cell_type": "markdown",
   "id": "3d2722e0-65ce-48ba-b455-45e07a52e88d",
   "metadata": {},
   "source": [
    "## Author\n",
    "Ragunath Kanagaraj"
   ]
  },
  {
   "cell_type": "code",
   "execution_count": null,
   "id": "e0b74dd1-5623-465b-95eb-2508380b6b82",
   "metadata": {},
   "outputs": [],
   "source": []
  }
 ],
 "metadata": {
  "kernelspec": {
   "display_name": "Python",
   "language": "python",
   "name": "conda-env-python-py"
  },
  "language_info": {
   "codemirror_mode": {
    "name": "ipython",
    "version": 3
   },
   "file_extension": ".py",
   "mimetype": "text/x-python",
   "name": "python",
   "nbconvert_exporter": "python",
   "pygments_lexer": "ipython3",
   "version": "3.7.12"
  }
 },
 "nbformat": 4,
 "nbformat_minor": 5
}
